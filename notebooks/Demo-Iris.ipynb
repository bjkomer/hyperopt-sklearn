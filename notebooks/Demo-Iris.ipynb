{
 "metadata": {
  "name": ""
 },
 "nbformat": 3,
 "nbformat_minor": 0,
 "worksheets": [
  {
   "cells": [
    {
     "cell_type": "code",
     "collapsed": false,
     "input": [
      "# IMPORTS\n",
      "import numpy as np\n",
      "import skdata.iris.view\n",
      "import hyperopt.tpe\n",
      "import hpsklearn\n",
      "import hpsklearn.demo_support\n",
      "import time"
     ],
     "language": "python",
     "metadata": {},
     "outputs": []
    },
    {
     "cell_type": "code",
     "collapsed": false,
     "input": [
      "# PREPARE TRAINING AND TEST DATA\n",
      "data_view = skdata.iris.view.KfoldClassification(4)\n",
      "attrs = 'petal_length', 'petal_width', 'sepal_length', 'sepal_width'\n",
      "labels = 'setosa', 'versicolor', 'virginica'\n",
      "X_all = np.asarray([map(d.__getitem__, attrs) for d in data_view.dataset.meta])\n",
      "y_all = np.asarray([labels.index(d['name']) for d in data_view.dataset.meta])\n",
      "idx_all = np.random.RandomState(1).permutation(len(y_all))\n",
      "idx_train = idx_all[:int(.8 * len(y_all))]\n",
      "idx_test = idx_all[int(.8 *  len(y_all)):]\n",
      "\n",
      "# TRAIN AND TEST DATA\n",
      "X_train = X_all[idx_train]\n",
      "y_train = y_all[idx_train]\n",
      "X_test = X_all[idx_test]\n",
      "y_test = y_all[idx_test]"
     ],
     "language": "python",
     "metadata": {},
     "outputs": []
    },
    {
     "cell_type": "code",
     "collapsed": false,
     "input": [
      "estimator = hpsklearn.estimator.hyperopt_estimator(\n",
      "    preprocessing=hpsklearn.components.any_preprocessing('pp'),\n",
      "    classifier=hpsklearn.components.any_classifier('clf'),\n",
      "    algo=hyperopt.tpe.suggest,\n",
      "    trial_timeout=15.0, # seconds\n",
      "    max_evals=5,\n",
      "    )"
     ],
     "language": "python",
     "metadata": {},
     "outputs": []
    },
    {
     "cell_type": "code",
     "collapsed": false,
     "input": [
      "# Demo version of estimator.fit()\n",
      "\n",
      "iterator = estimator.fit_iter(X_train,y_train)\n",
      "iterator.next()\n",
      "# XXX: HOW TO MAKE IT *NOT* PRINT ALL THE FIGURES AT THE END?\n",
      "while len(estimator.trials.trials) < estimator.max_evals:\n",
      "    iterator.send(1) # -- try one more model\n",
      "    hpsklearn.demo_support.iris_plot_per_iter(estimator)\n",
      "\n",
      "estimator.retrain_best_model_on_full_data(X_train, y_train)"
     ],
     "language": "python",
     "metadata": {},
     "outputs": []
    },
    {
     "cell_type": "code",
     "collapsed": false,
     "input": [
      "test_predictions = estimator.predict(X_test)\n",
      "acc_in_percent = 100 * np.mean(test_predictions == y_test)\n",
      "print 'Prediction accuracy in generalization is %.1f%%' % acc_in_percent"
     ],
     "language": "python",
     "metadata": {},
     "outputs": []
    }
   ],
   "metadata": {}
  }
 ]
}